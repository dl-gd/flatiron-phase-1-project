{
 "cells": [
  {
   "cell_type": "markdown",
   "metadata": {},
   "source": [
    "# Jumpstarting Microsoft's New Film Department\n",
    "***\n",
    "\n",
    "**Author**: Dominic Garcia"
   ]
  },
  {
   "cell_type": "markdown",
   "metadata": {},
   "source": [
    "![MicrosoftLogo](images/MSLogo.png)"
   ]
  },
  {
   "cell_type": "markdown",
   "metadata": {},
   "source": [
    "## Description\n",
    "***\n",
    "\n",
    "In this project, an analysis of movie data is conducted in order to help Microsoft ensure that their new movie making venture is both financially succesful and well-received by viewers."
   ]
  },
  {
   "cell_type": "markdown",
   "metadata": {},
   "source": [
    "## Data\n",
    "***\n",
    "\n",
    "This project's data comes from the following resources. All data can be found in the repository's zippedData folder. \n",
    "\n",
    "* [IMDB](https://www.imdb.com/)\n",
    "* [The Numbers](https://www.the-numbers.com/)\n",
    "* [Rotten Tomatoes](https://www.rottentomatoes.com/)"
   ]
  },
  {
   "cell_type": "markdown",
   "metadata": {},
   "source": [
    "## Key Findings & Business Recommendations\n",
    "***"
   ]
  },
  {
   "cell_type": "markdown",
   "metadata": {},
   "source": [
    "### Which genres have the best return on investment?"
   ]
  },
  {
   "cell_type": "markdown",
   "metadata": {},
   "source": [
    "I identified a few genres that seemed to bring in the biggest earnings relative to their typical production budget. This involved calculating the global net earnings and ROI % for each film observed and looking at how ROI has trended for the chosen genres over the last decade. The data I used here came from IMDB & The Numbers. "
   ]
  },
  {
   "cell_type": "markdown",
   "metadata": {},
   "source": [
    "![roi_boxplots](images/roigenrebox.png)"
   ]
  },
  {
   "cell_type": "markdown",
   "metadata": {},
   "source": [
    "This boxplot helped identify which genres performed especially well. I narrowed my scope to just the Action, Adventure, Comedy and Horror genres, which seemed to perform especially well and had lots of films in each style.\n",
    "\n",
    "Looking at the trends below, there appears to be an overall decline in profitability over the last couple of years, possibly due to streaming. Before the collective drop off, however, all of the genres except for Adventure show a positive trend over the course of the decade."
   ]
  },
  {
   "cell_type": "markdown",
   "metadata": {},
   "source": [
    "![genre_roi_decade](images/timeroi.png)"
   ]
  },
  {
   "cell_type": "markdown",
   "metadata": {},
   "source": [
    "**Recommendations**\n",
    "\n",
    "* Focus on making movies primarily in the genres of Action, Comedy & Horror\n",
    "* The safest bet in terms of profitability seems to be an Action film\n",
    "* Horror movies have great earning potential. But the ROI can also be quite erratic for horror movies, so don't count on such films for steady box office success."
   ]
  },
  {
   "cell_type": "markdown",
   "metadata": {},
   "source": [
    "### Does a film's budget determine its relative financial gain?"
   ]
  },
  {
   "cell_type": "markdown",
   "metadata": {},
   "source": [
    "To begin, I closely inspected the collection of movie budgets in the **movie_budgets_df** DataFrame. This led to me to the realization that the collection was too skewed to make a reasonable analysis across the entire collection. The data for this section comes from The Numbers."
   ]
  },
  {
   "cell_type": "markdown",
   "metadata": {},
   "source": [
    "![budget_counts](images/budgetcount.png)"
   ]
  },
  {
   "cell_type": "markdown",
   "metadata": {},
   "source": [
    "My response was to split the budgets into four distinct categories based on quantile values: Low Budget (0-5Million USD), Medium-Low Budget (5-17Million USD), Medium-High Budget (17-40Million USD) & High Budget (40Million+ USD). I then decided to plot production budget vs. ROI % for each of the four categories.\n",
    "\n",
    "Finally, I combed through all of the ROI percentages to detect and remove any outlying values. This was a preempitve move to make sure that none of the plots were thrown off by abnormalities. "
   ]
  },
  {
   "cell_type": "markdown",
   "metadata": {},
   "source": [
    "![budget_vs_roi](images/budgetvsroi.png)"
   ]
  },
  {
   "cell_type": "markdown",
   "metadata": {},
   "source": [
    "From the above plots, it looks as though only high budget films exhibit a positive correlation between budget and ROI %. But looking at percentages might not give a complete picture, since the measure is relative. It might be difficult to compare, for instance, a 7000% ROI for a medium-low budget film to a 1500% ROI for a high budget film. \n",
    "\n",
    "I decided, then, to recreate the same plots and inspect a more concrete measure like global net gross (in USD) instead of the more relative ROI % measure. "
   ]
  },
  {
   "cell_type": "markdown",
   "metadata": {},
   "source": [
    "![budget_vs_net](images/budgetvsnet.png)"
   ]
  },
  {
   "cell_type": "markdown",
   "metadata": {},
   "source": [
    "These plots have slight changes in how they look, but overall cement my conclusion from the previous plots: movies with high production budgets have by far the most reliable, positive correlation between their budgets and the money they net. "
   ]
  },
  {
   "cell_type": "markdown",
   "metadata": {},
   "source": [
    "**Recommendations**\n",
    "\n",
    "* Guarantee a dependable relationship between money put into a film and financial gain by making movies with production budgets of $40 million or more. \n",
    "* Normally, this would be an immense (and probably unfeasable) task for a new studio, but given Microsoft's financial status, the company is uniquely able to follow through on this advice. "
   ]
  },
  {
   "cell_type": "markdown",
   "metadata": {},
   "source": [
    "### Do movies with certain runtimes perform best with audiences and critics?"
   ]
  },
  {
   "cell_type": "markdown",
   "metadata": {},
   "source": [
    "After pinpointing a couple of methods for certifying box office success, I move my focus toward successful audience and critic response. Good critic scores and a fervent fanbase usually lead to more long term consumption and purchase of a movie. Additionally, these positive responses are more likely to open up opportunities for supplementary income streams like merchandising.\n",
    "\n",
    "I begin this section by merging both dataframes from IMDB into the new **ratings_basics_df**. Afterwards, I create quantile-based categories for the number of audience votes behind a film's rating: Low Votes (0-16), Medium-Low Votes (16-62), Medium-High Votes (62-353) & High Votes (353+). This is so that I can hue my plot of runtime vs. rating by the number of votes."
   ]
  },
  {
   "cell_type": "markdown",
   "metadata": {},
   "source": [
    "![runtime_rating_byvotes](images/runtimeratingtier.png)"
   ]
  },
  {
   "cell_type": "markdown",
   "metadata": {},
   "source": [
    "Obviously, including all films in the graph for the sake of comparing between vote counts introduces too much noise. This led me to plot runtime vs. audience rating for movies with a high vote count, the category closest to representing true audience response. "
   ]
  },
  {
   "cell_type": "markdown",
   "metadata": {},
   "source": [
    "![runtime_rating_highvote](images/runtimerating.png)"
   ]
  },
  {
   "cell_type": "markdown",
   "metadata": {},
   "source": [
    "This new regression plot showed a positive correlation between runtime and audience rating. Furthermore, the runtime range that exhibits tightly-clustered positive scores (above 5/10) and relatively low amounts of poor ratings was between 100 & 120 minutes. \n",
    "\n",
    "Next, I looked at critic responses and how they relate to a movie's runtime using data from Rotten Tomatoes. This involved cleaning and standardizing the collection of scores (a jumbled mess of letter grades and fraction scores with varying denominators, among other types) so that all scores were numerical and measured out of 100. "
   ]
  },
  {
   "cell_type": "markdown",
   "metadata": {},
   "source": [
    "![runtime_vs_rtcritics](images/runtimescore.png)"
   ]
  },
  {
   "cell_type": "markdown",
   "metadata": {},
   "source": [
    "The Rotten Tomatoes regression plot, seemed more difficult to interpret at first glance, since each movie could have multiple scores associated with it. \n",
    "\n",
    "But inspecting it more closely helped solidify and expand on my previous finding: there is tight clustering of positive critic scores for films between 80 & 140 minutes long, and there is a drop off in negative scores for films between 120 & 140 minutes long. \n",
    "\n",
    "Since the first regression plot showed a more tangible correlation between variables, I defaulted to the runtime suggested there: between 100 & 120 minutes. "
   ]
  },
  {
   "cell_type": "markdown",
   "metadata": {},
   "source": [
    "**Recommendations**\n",
    "\n",
    "* Give yourself a better chance at more income streams per movie made by putting effort toward receiving positive responses among viewers and critics. \n",
    "* Making movies that run between 100 & 120 minutes long in order to ensure better responses among these groups.\n",
    "* If you're undecided between making a movie's runtime shorter or longer than the current one, err towards making the movie longer. Data from IMDB and Rotten Tomatoes both suggest (to varying degrees) a positive relationship between runtime and reception, and Rotten Tomatoes' data suggests that even movies between 120 & 140 minutes long perform relatively well with critics. "
   ]
  },
  {
   "cell_type": "markdown",
   "metadata": {},
   "source": [
    "## Next Steps\n",
    "***"
   ]
  },
  {
   "cell_type": "markdown",
   "metadata": {},
   "source": [
    "Given the necessary time, additional analysis could provide insight on questions such as:\n",
    "\n",
    "* **Which experienced studios could Microsoft benefit from a partnership with?**\n",
    "* **Which screenwriters make the most profitable scripts?**\n",
    "* **Which release months or seasons are best for a film's financial performance?**"
   ]
  },
  {
   "cell_type": "markdown",
   "metadata": {},
   "source": [
    "## For More Information\n",
    "***"
   ]
  },
  {
   "cell_type": "markdown",
   "metadata": {},
   "source": [
    "You can find more in-depth analysis in the [Jupyter Notebook], or get a cursory review through this [presentation].\n",
    "\n",
    "For additional info, contact Dominic Garcia at dlgarcia.017@gmail.com"
   ]
  },
  {
   "cell_type": "markdown",
   "metadata": {},
   "source": [
    "## Repository Structure\n",
    "***"
   ]
  },
  {
   "cell_type": "raw",
   "metadata": {},
   "source": [
    "├── images\n",
    "├── zippedData\n",
    "├── README.md\n",
    "├── Animal_Shelter_Needs_Presentation.pdf\n",
    "└── animal_shelter_needs_analysis.ipynb"
   ]
  }
 ],
 "metadata": {
  "kernelspec": {
   "display_name": "Python 3",
   "language": "python",
   "name": "python3"
  },
  "language_info": {
   "codemirror_mode": {
    "name": "ipython",
    "version": 3
   },
   "file_extension": ".py",
   "mimetype": "text/x-python",
   "name": "python",
   "nbconvert_exporter": "python",
   "pygments_lexer": "ipython3",
   "version": "3.8.5"
  },
  "toc": {
   "base_numbering": 1,
   "nav_menu": {},
   "number_sections": true,
   "sideBar": true,
   "skip_h1_title": false,
   "title_cell": "Table of Contents",
   "title_sidebar": "Contents",
   "toc_cell": false,
   "toc_position": {},
   "toc_section_display": true,
   "toc_window_display": false
  },
  "varInspector": {
   "cols": {
    "lenName": 16,
    "lenType": 16,
    "lenVar": 40
   },
   "kernels_config": {
    "python": {
     "delete_cmd_postfix": "",
     "delete_cmd_prefix": "del ",
     "library": "var_list.py",
     "varRefreshCmd": "print(var_dic_list())"
    },
    "r": {
     "delete_cmd_postfix": ") ",
     "delete_cmd_prefix": "rm(",
     "library": "var_list.r",
     "varRefreshCmd": "cat(var_dic_list()) "
    }
   },
   "types_to_exclude": [
    "module",
    "function",
    "builtin_function_or_method",
    "instance",
    "_Feature"
   ],
   "window_display": false
  }
 },
 "nbformat": 4,
 "nbformat_minor": 4
}
